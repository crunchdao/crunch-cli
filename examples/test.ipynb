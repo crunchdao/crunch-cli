{
 "cells": [
  {
   "cell_type": "code",
   "execution_count": null,
   "metadata": {},
   "outputs": [],
   "source": [
    "import sys\n",
    "sys.path.insert(0, \"../\")"
   ]
  },
  {
   "cell_type": "code",
   "execution_count": null,
   "metadata": {},
   "outputs": [],
   "source": [
    "import crunch as crunch_cli\n",
    "%env WEB_BASE_URL=http://localhost:3002/\n",
    "%env API_BASE_URL=http://localhost:8000/"
   ]
  },
  {
   "cell_type": "code",
   "execution_count": null,
   "metadata": {},
   "outputs": [],
   "source": [
    "import pandas\n",
    "import typing"
   ]
  },
  {
   "cell_type": "code",
   "execution_count": null,
   "metadata": {},
   "outputs": [],
   "source": [
    "crunch = crunch_cli.load_notebook(__name__)"
   ]
  },
  {
   "cell_type": "code",
   "execution_count": null,
   "metadata": {},
   "outputs": [],
   "source": [
    "x_train, y_train, x_test = crunch.load_data()\n",
    "len(x_train), len(y_train), len(x_test)"
   ]
  },
  {
   "cell_type": "code",
   "execution_count": null,
   "metadata": {},
   "outputs": [],
   "source": [
    "def train(\n",
    "    x_train: pandas.DataFrame,\n",
    "    y_train: pandas.DataFrame,\n",
    "    model_directory: str,\n",
    ") -> pandas.DataFrame:\n",
    "    \"\"\"\n",
    "    Do your model training here.\n",
    "    This function will be executed in case of a retrain.\n",
    "    \n",
    "    If your model is too heavy to be trained in the time constraint,\n",
    "    you can create one manually and upload a pre-trained version.\n",
    "    This function can be safely removed in such a case.\n",
    "    \"\"\"\n",
    "    \n",
    "    print(\"train\")\n",
    "    print(\"x_train\", len(x_train))\n",
    "    print(\"x_train.max\", x_train[\"date\"].max())\n",
    "    print(\"y_train\", len(y_train))\n",
    "    print(\"y_train.max\", y_train[\"date\"].max())\n",
    "    print(\"model_directory\", model_directory)\n"
   ]
  },
  {
   "cell_type": "code",
   "execution_count": null,
   "metadata": {},
   "outputs": [],
   "source": [
    "train(x_train, y_train, crunch.model_directory)"
   ]
  },
  {
   "cell_type": "code",
   "execution_count": null,
   "metadata": {},
   "outputs": [],
   "source": [
    "def infer(\n",
    "    x_test: pandas.DataFrame,\n",
    "    model_directory: str,\n",
    ") -> pandas.DataFrame:\n",
    "    \"\"\"\n",
    "    Do your inference here.\n",
    "    This function will always be executed.\n",
    "    \"\"\"\n",
    "    \n",
    "    print(\"infer\")\n",
    "    print(\"model_directory\", model_directory)\n",
    "    print(\"x_test\", len(x_test))\n",
    "    print(\"x_test.max\", x_test[\"date\"].max())\n",
    "\n",
    "    return pandas.DataFrame(columns=['date', 'id', 'value'])\n",
    "    # return pandas.DataFrame()\n"
   ]
  },
  {
   "cell_type": "code",
   "execution_count": null,
   "metadata": {},
   "outputs": [],
   "source": [
    "prediction = infer(x_test, crunch.model_directory)\n",
    "len(prediction)"
   ]
  },
  {
   "cell_type": "code",
   "execution_count": null,
   "metadata": {},
   "outputs": [],
   "source": [
    "prediction = crunch.test(\n",
    "    force_first_train=True,\n",
    "    train_frequency=1,\n",
    "    raise_abort=False\n",
    ")"
   ]
  },
  {
   "cell_type": "code",
   "execution_count": null,
   "metadata": {},
   "outputs": [],
   "source": []
  },
  {
   "cell_type": "code",
   "execution_count": null,
   "metadata": {},
   "outputs": [],
   "source": []
  },
  {
   "cell_type": "code",
   "execution_count": null,
   "metadata": {},
   "outputs": [],
   "source": []
  },
  {
   "cell_type": "code",
   "execution_count": null,
   "metadata": {},
   "outputs": [],
   "source": []
  },
  {
   "cell_type": "code",
   "execution_count": null,
   "metadata": {},
   "outputs": [],
   "source": []
  }
 ],
 "metadata": {
  "kernelspec": {
   "display_name": "Python 3",
   "language": "python",
   "name": "python3"
  },
  "language_info": {
   "codemirror_mode": {
    "name": "ipython",
    "version": 3
   },
   "file_extension": ".py",
   "mimetype": "text/x-python",
   "name": "python",
   "nbconvert_exporter": "python",
   "pygments_lexer": "ipython3",
   "version": "3.10.5"
  },
  "orig_nbformat": 4
 },
 "nbformat": 4,
 "nbformat_minor": 2
}
